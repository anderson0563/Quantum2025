{
  "nbformat": 4,
  "nbformat_minor": 0,
  "metadata": {
    "colab": {
      "provenance": []
    },
    "kernelspec": {
      "name": "python3",
      "display_name": "Python 3"
    },
    "language_info": {
      "name": "python"
    }
  },
  "cells": [
    {
      "cell_type": "markdown",
      "source": [
        "Implementação do algoritmo apresentado por Grover no artigo \"A fast quantum mechanical algorithm for database search”\n",
        "\n",
        "Um banco de dados não ordenado contém 𝑁 registros, dos quais apenas um satisfaz uma determinada propriedade. O problema é identificar esse único registro. Qualquer algoritmo clássico, seja determinístico ou probabilístico, levará claramente 𝑂(𝑁) passos, já que, em média, precisará examinar uma grande fração dos 𝑁 registros.\n",
        "\n",
        "Sistemas mecânicos quânticos podem realizar várias operações simultaneamente devido às suas propriedades ondulatórias. Este artigo apresenta um algoritmo quântico que encontra esse registro em $O(\\sqrt{N})$ passos.\n",
        "\n",
        "Este algoritmo está dentro de um fator constante do limite inferior teórico para a velocidade de qualquer algoritmo quântico que resolva esse problema."
      ],
      "metadata": {
        "id": "x2a32YymYK8N"
      }
    },
    {
      "cell_type": "markdown",
      "source": [
        "Importação de bibliotecas e pacotes"
      ],
      "metadata": {
        "id": "XXyUBc60ZpTq"
      }
    },
    {
      "cell_type": "code",
      "source": [
        "%%capture\n",
        "!pip install qiskit qiskit-aer qiskit_ibm_runtime qiskit-algorithms pyqubo"
      ],
      "metadata": {
        "id": "amO70q3lhiPL"
      },
      "execution_count": 1,
      "outputs": []
    },
    {
      "cell_type": "code",
      "source": [
        "import matplotlib.pyplot as plt\n",
        "from qiskit import QuantumCircuit, transpile, assemble\n",
        "from qiskit.transpiler.preset_passmanagers import generate_preset_pass_manager\n",
        "from qiskit.visualization import plot_histogram\n",
        "from qiskit_aer import Aer, AerSimulator\n",
        "from qiskit_ibm_runtime import QiskitRuntimeService, Session, SamplerV2 as Sampler, Estimator\n",
        "from qiskit_ibm_runtime.fake_provider import FakeKyiv"
      ],
      "metadata": {
        "id": "fdXS-2yzZug_"
      },
      "execution_count": null,
      "outputs": []
    },
    {
      "cell_type": "code",
      "execution_count": 21,
      "metadata": {
        "colab": {
          "base_uri": "https://localhost:8080/",
          "height": 294
        },
        "id": "flt_IcIvhgt0",
        "outputId": "53d9d1cd-841d-4a9e-9dd8-a7dd9920cc73"
      },
      "outputs": [
        {
          "output_type": "execute_result",
          "data": {
            "text/plain": [
              "     ┌───┐          ┌───┐┌───┐               ┌───┐┌───┐               ┌───┐»\n",
              "q_0: ┤ H ├───────■──┤ H ├┤ X ├────────────■──┤ X ├┤ H ├────────────■──┤ H ├»\n",
              "     ├───┤┌───┐  │  ├───┤├───┤┌───┐       │  ├───┤├───┤┌───┐       │  ├───┤»\n",
              "q_1: ┤ H ├┤ X ├──■──┤ X ├┤ H ├┤ X ├───────■──┤ X ├┤ H ├┤ X ├───────■──┤ X ├»\n",
              "     ├───┤├───┤┌─┴─┐├───┤├───┤├───┤┌───┐┌─┴─┐├───┤├───┤├───┤┌───┐┌─┴─┐├───┤»\n",
              "q_2: ┤ H ├┤ H ├┤ X ├┤ H ├┤ H ├┤ X ├┤ H ├┤ X ├┤ H ├┤ X ├┤ H ├┤ H ├┤ X ├┤ H ├»\n",
              "     └───┘└───┘└───┘└───┘└───┘└───┘└───┘└───┘└───┘└───┘└───┘└───┘└───┘└───┘»\n",
              "c: 3/══════════════════════════════════════════════════════════════════════»\n",
              "                                                                           »\n",
              "«     ┌───┐               ┌───┐┌───┐     ┌─┐      \n",
              "«q_0: ┤ X ├────────────■──┤ X ├┤ H ├─────┤M├──────\n",
              "«     ├───┤┌───┐       │  ├───┤├───┤     └╥┘┌─┐   \n",
              "«q_1: ┤ H ├┤ X ├───────■──┤ X ├┤ H ├──────╫─┤M├───\n",
              "«     ├───┤├───┤┌───┐┌─┴─┐├───┤├───┤┌───┐ ║ └╥┘┌─┐\n",
              "«q_2: ┤ H ├┤ X ├┤ H ├┤ X ├┤ H ├┤ X ├┤ H ├─╫──╫─┤M├\n",
              "«     └───┘└───┘└───┘└───┘└───┘└───┘└───┘ ║  ║ └╥┘\n",
              "«c: 3/════════════════════════════════════╩══╩══╩═\n",
              "«                                         0  1  2 "
            ],
            "text/html": [
              "<pre style=\"word-wrap: normal;white-space: pre;background: #fff0;line-height: 1.1;font-family: &quot;Courier New&quot;,Courier,monospace\">     ┌───┐          ┌───┐┌───┐               ┌───┐┌───┐               ┌───┐»\n",
              "q_0: ┤ H ├───────■──┤ H ├┤ X ├────────────■──┤ X ├┤ H ├────────────■──┤ H ├»\n",
              "     ├───┤┌───┐  │  ├───┤├───┤┌───┐       │  ├───┤├───┤┌───┐       │  ├───┤»\n",
              "q_1: ┤ H ├┤ X ├──■──┤ X ├┤ H ├┤ X ├───────■──┤ X ├┤ H ├┤ X ├───────■──┤ X ├»\n",
              "     ├───┤├───┤┌─┴─┐├───┤├───┤├───┤┌───┐┌─┴─┐├───┤├───┤├───┤┌───┐┌─┴─┐├───┤»\n",
              "q_2: ┤ H ├┤ H ├┤ X ├┤ H ├┤ H ├┤ X ├┤ H ├┤ X ├┤ H ├┤ X ├┤ H ├┤ H ├┤ X ├┤ H ├»\n",
              "     └───┘└───┘└───┘└───┘└───┘└───┘└───┘└───┘└───┘└───┘└───┘└───┘└───┘└───┘»\n",
              "c: 3/══════════════════════════════════════════════════════════════════════»\n",
              "                                                                           »\n",
              "«     ┌───┐               ┌───┐┌───┐     ┌─┐      \n",
              "«q_0: ┤ X ├────────────■──┤ X ├┤ H ├─────┤M├──────\n",
              "«     ├───┤┌───┐       │  ├───┤├───┤     └╥┘┌─┐   \n",
              "«q_1: ┤ H ├┤ X ├───────■──┤ X ├┤ H ├──────╫─┤M├───\n",
              "«     ├───┤├───┤┌───┐┌─┴─┐├───┤├───┤┌───┐ ║ └╥┘┌─┐\n",
              "«q_2: ┤ H ├┤ X ├┤ H ├┤ X ├┤ H ├┤ X ├┤ H ├─╫──╫─┤M├\n",
              "«     └───┘└───┘└───┘└───┘└───┘└───┘└───┘ ║  ║ └╥┘\n",
              "«c: 3/════════════════════════════════════╩══╩══╩═\n",
              "«                                         0  1  2 </pre>"
            ]
          },
          "metadata": {},
          "execution_count": 21
        }
      ],
      "source": [
        "n = 3  # número de qubits\n",
        "oracle_target = '101'  # solução marcada\n",
        "\n",
        "# 1. Inicialização\n",
        "grover_circuit = QuantumCircuit(n, n)\n",
        "grover_circuit.h(range(n))  # H⊗n para criar superposição uniforme\n",
        "\n",
        "# 2. Oráculo\n",
        "def apply_oracle(qc, target):\n",
        "    for i, bit in enumerate(reversed(target)):\n",
        "        if bit == '0':\n",
        "            qc.x(i)\n",
        "    qc.h(n-1)\n",
        "    qc.mcx(list(range(n-1)), n-1)  # multi-controlled Z\n",
        "    qc.h(n-1)\n",
        "    for i, bit in enumerate(reversed(target)):\n",
        "        if bit == '0':\n",
        "            qc.x(i)\n",
        "\n",
        "# 3. Difusor (amplificador)\n",
        "def diffusion_operator(qc):\n",
        "    qc.h(range(n))\n",
        "    qc.x(range(n))\n",
        "    qc.h(n-1)\n",
        "    qc.mcx(list(range(n-1)), n-1)\n",
        "    qc.h(n-1)\n",
        "    qc.x(range(n))\n",
        "    qc.h(range(n))\n",
        "\n",
        "# Repetições (Grover iterations)\n",
        "import math\n",
        "num_iterations = int(math.floor((math.pi / 4) * math.sqrt(2**n)))\n",
        "\n",
        "for _ in range(num_iterations):\n",
        "    apply_oracle(grover_circuit, oracle_target)\n",
        "    diffusion_operator(grover_circuit)\n",
        "\n",
        "# 4. Medição\n",
        "grover_circuit.measure(range(n), range(n))\n",
        "grover_circuit.draw()"
      ]
    },
    {
      "cell_type": "code",
      "source": [
        "# Run the sampler job locally using FakeManilaV2\n",
        "backend = FakeKyiv()\n",
        "\n",
        "transpiled_circuit = transpile(grover_circuit, backend)\n",
        "transpiled_circuit.draw()\n",
        "sampler = Sampler(backend)\n",
        "job = sampler.run([transpiled_circuit])\n",
        "pub_result = job.result()[0]\n",
        "print(pub_result)\n",
        "counts = pub_result.data.c.get_counts()\n",
        "plot_histogram(counts)"
      ],
      "metadata": {
        "colab": {
          "base_uri": "https://localhost:8080/",
          "height": 463
        },
        "id": "iLvxF9_OSU6q",
        "outputId": "943268f3-fb3c-4448-f998-a2d2d6b1840a"
      },
      "execution_count": 22,
      "outputs": [
        {
          "output_type": "stream",
          "name": "stdout",
          "text": [
            "SamplerPubResult(data=DataBin(c=BitArray(<shape=(), num_shots=1024, num_bits=3>)), metadata={'shots': 1024, 'circuit_metadata': {}})\n"
          ]
        },
        {
          "output_type": "execute_result",
          "data": {
            "text/plain": [
              "<Figure size 640x480 with 1 Axes>"
            ],
            "image/png": "[encoded data removed]"
          },
          "metadata": {},
          "execution_count": 22
        }
      ]
    }
  ]
}