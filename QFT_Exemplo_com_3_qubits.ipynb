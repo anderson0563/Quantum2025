{
  "nbformat": 4,
  "nbformat_minor": 0,
  "metadata": {
    "colab": {
      "provenance": []
    },
    "kernelspec": {
      "name": "python3",
      "display_name": "Python 3"
    },
    "language_info": {
      "name": "python"
    }
  },
  "cells": [
    {
      "cell_type": "markdown",
      "source": [
        "####A QFT pode ser implementada com os seguintes componentes:\n",
        "\n",
        "1. Porta Hadamard no primeiro qubit.\n",
        "2. Portas de rotação controladas R<sub>k</sub> para adicionar fases relativas.\n",
        "3. Repetir o processo para os outros qubits.\n",
        "4. Aplicar operações SWAP para reorganizar os qubits no final.\n"
      ],
      "metadata": {
        "id": "F6LbkvlTOUkE"
      }
    },
    {
      "cell_type": "markdown",
      "source": [
        "###### %%capture → Oculta a saída da instalação para manter o ambiente limpo.\n",
        "###### !pip install qiskit."
      ],
      "metadata": {
        "id": "BNb8PQR0I7wD"
      }
    },
    {
      "cell_type": "code",
      "execution_count": 1,
      "metadata": {
        "id": "hhAoTuvtCe5c"
      },
      "outputs": [],
      "source": [
        "%%capture\n",
        "!pip install qiskit"
      ]
    },
    {
      "cell_type": "markdown",
      "source": [
        "###### importar as bibliotecas necessárias"
      ],
      "metadata": {
        "id": "f2Fb0ZAkJBDB"
      }
    },
    {
      "cell_type": "code",
      "source": [
        "from qiskit import QuantumCircuit\n",
        "from numpy import pi"
      ],
      "metadata": {
        "id": "YR7-V4bFJHgR"
      },
      "execution_count": 2,
      "outputs": []
    },
    {
      "cell_type": "markdown",
      "source": [
        "###### Criar um circuito para 4 qubits"
      ],
      "metadata": {
        "id": "BAk28mQlJI8y"
      }
    },
    {
      "cell_type": "code",
      "source": [
        "qc = QuantumCircuit(4)"
      ],
      "metadata": {
        "id": "7_GsoxUIJMPR"
      },
      "execution_count": 3,
      "outputs": []
    },
    {
      "cell_type": "markdown",
      "source": [
        "###### Aplicar Hadamard no primeiro qubit"
      ],
      "metadata": {
        "id": "8i6Ojpl0JNuZ"
      }
    },
    {
      "cell_type": "code",
      "source": [
        "qc.h(0)"
      ],
      "metadata": {
        "colab": {
          "base_uri": "https://localhost:8080/"
        },
        "id": "7k5nfruYJP-g",
        "outputId": "01e3c0dd-3411-4940-8866-57ee974a7044"
      },
      "execution_count": 4,
      "outputs": [
        {
          "output_type": "execute_result",
          "data": {
            "text/plain": [
              "<qiskit.circuit.instructionset.InstructionSet at 0x7853a4bd6ad0>"
            ]
          },
          "metadata": {},
          "execution_count": 4
        }
      ]
    },
    {
      "cell_type": "markdown",
      "source": [
        "###### Aplicar portas controladas de fase"
      ],
      "metadata": {
        "id": "r5pNl9TdJTKg"
      }
    },
    {
      "cell_type": "code",
      "source": [
        "qc.cp(pi/2, 1, 0)  # R2 entre qubit 1 e qubit 0\n",
        "qc.cp(pi/4, 2, 0)  # R3 entre qubit 2 e qubit 0\n",
        "qc.cp(pi/8, 3, 0)  # R4 entre qubit 3 e qubit 0"
      ],
      "metadata": {
        "colab": {
          "base_uri": "https://localhost:8080/"
        },
        "id": "fdhTGeJsJWAg",
        "outputId": "933561ab-cc06-4969-d13a-20ec22c7eda4"
      },
      "execution_count": 5,
      "outputs": [
        {
          "output_type": "execute_result",
          "data": {
            "text/plain": [
              "<qiskit.circuit.instructionset.InstructionSet at 0x7853a4bd7b50>"
            ]
          },
          "metadata": {},
          "execution_count": 5
        }
      ]
    },
    {
      "cell_type": "markdown",
      "source": [
        "###### Aplicar Hadamard no segundo qubit"
      ],
      "metadata": {
        "id": "xOC28ZqtJUnH"
      }
    },
    {
      "cell_type": "code",
      "source": [
        "qc.h(1)"
      ],
      "metadata": {
        "colab": {
          "base_uri": "https://localhost:8080/"
        },
        "id": "WmcJEAONJbbH",
        "outputId": "7afd30bc-88c3-4af2-c439-c781433dc706"
      },
      "execution_count": 6,
      "outputs": [
        {
          "output_type": "execute_result",
          "data": {
            "text/plain": [
              "<qiskit.circuit.instructionset.InstructionSet at 0x7853a4bd7670>"
            ]
          },
          "metadata": {},
          "execution_count": 6
        }
      ]
    },
    {
      "cell_type": "markdown",
      "source": [
        "###### Aplicar portas controladas de fase"
      ],
      "metadata": {
        "id": "hqA0_oARJcoO"
      }
    },
    {
      "cell_type": "code",
      "source": [
        "qc.cp(pi/2, 2, 1)  # R2 entre qubit 2 e qubit 1\n",
        "qc.cp(pi/4, 3, 1)  # R3 entre qubit 3 e qubit 1"
      ],
      "metadata": {
        "colab": {
          "base_uri": "https://localhost:8080/"
        },
        "id": "bsxolnNZJed_",
        "outputId": "a32237c2-8c77-4cdf-8cbd-e46a5ee598c1"
      },
      "execution_count": 7,
      "outputs": [
        {
          "output_type": "execute_result",
          "data": {
            "text/plain": [
              "<qiskit.circuit.instructionset.InstructionSet at 0x7853a4bd7580>"
            ]
          },
          "metadata": {},
          "execution_count": 7
        }
      ]
    },
    {
      "cell_type": "markdown",
      "source": [
        "###### Aplicar Hadamard no terceiro qubit"
      ],
      "metadata": {
        "id": "LgMcNpFYJf0d"
      }
    },
    {
      "cell_type": "code",
      "source": [
        "qc.h(2)"
      ],
      "metadata": {
        "colab": {
          "base_uri": "https://localhost:8080/"
        },
        "id": "EmZ7iBiXJg2N",
        "outputId": "8f40efbc-dd25-48a6-9568-a02d21c09af6"
      },
      "execution_count": 8,
      "outputs": [
        {
          "output_type": "execute_result",
          "data": {
            "text/plain": [
              "<qiskit.circuit.instructionset.InstructionSet at 0x7853a4bd78e0>"
            ]
          },
          "metadata": {},
          "execution_count": 8
        }
      ]
    },
    {
      "cell_type": "markdown",
      "source": [
        "###### Aplicar porta de fase controlada entre qubit 3 e qubit 2"
      ],
      "metadata": {
        "id": "BR4IGKn9JiH2"
      }
    },
    {
      "cell_type": "code",
      "source": [
        "qc.cp(pi/2, 3, 2)  # R2 entre qubit 3 e qubit 2"
      ],
      "metadata": {
        "colab": {
          "base_uri": "https://localhost:8080/"
        },
        "id": "531ZVygfJju3",
        "outputId": "3c1cddb8-c682-4efd-e02a-5d742e5af1e7"
      },
      "execution_count": 9,
      "outputs": [
        {
          "output_type": "execute_result",
          "data": {
            "text/plain": [
              "<qiskit.circuit.instructionset.InstructionSet at 0x7853a4bd7490>"
            ]
          },
          "metadata": {},
          "execution_count": 9
        }
      ]
    },
    {
      "cell_type": "markdown",
      "source": [
        "###### Aplicar Hadamard no quarto qubit"
      ],
      "metadata": {
        "id": "ae-HGUiaJlEJ"
      }
    },
    {
      "cell_type": "code",
      "source": [
        "qc.h(3)"
      ],
      "metadata": {
        "colab": {
          "base_uri": "https://localhost:8080/"
        },
        "id": "KS6_ol0HJmi_",
        "outputId": "1bde8598-bb26-49a9-9d65-5e63c5d3c272"
      },
      "execution_count": 10,
      "outputs": [
        {
          "output_type": "execute_result",
          "data": {
            "text/plain": [
              "<qiskit.circuit.instructionset.InstructionSet at 0x7853a4bd7220>"
            ]
          },
          "metadata": {},
          "execution_count": 10
        }
      ]
    },
    {
      "cell_type": "markdown",
      "source": [
        "###### Aplicar SWAP para inverter os qubits"
      ],
      "metadata": {
        "id": "D8i2FXjWJnzg"
      }
    },
    {
      "cell_type": "code",
      "source": [
        "qc.swap(0, 3)\n",
        "qc.swap(1, 2)"
      ],
      "metadata": {
        "colab": {
          "base_uri": "https://localhost:8080/"
        },
        "id": "u1AeFaH5JpNt",
        "outputId": "a708aa20-1899-4b8d-84fc-92a806f44534"
      },
      "execution_count": 11,
      "outputs": [
        {
          "output_type": "execute_result",
          "data": {
            "text/plain": [
              "<qiskit.circuit.instructionset.InstructionSet at 0x7853a4bd79a0>"
            ]
          },
          "metadata": {},
          "execution_count": 11
        }
      ]
    },
    {
      "cell_type": "markdown",
      "source": [
        "###### Desenhar o circuito"
      ],
      "metadata": {
        "id": "tHoMNBjAJrBH"
      }
    },
    {
      "cell_type": "code",
      "source": [
        "qc.draw()"
      ],
      "metadata": {
        "colab": {
          "base_uri": "https://localhost:8080/",
          "height": 294
        },
        "id": "QuJomDklClw0",
        "outputId": "810b468e-ec1d-4f1c-b12d-80353428e62a"
      },
      "execution_count": 12,
      "outputs": [
        {
          "output_type": "execute_result",
          "data": {
            "text/plain": [
              "     ┌───┐                                                                     »\n",
              "q_0: ┤ H ├─■────────■─────────────■────────────────────────────────────────────»\n",
              "     └───┘ │P(π/2)  │       ┌───┐ │                                            »\n",
              "q_1: ──────■────────┼───────┤ H ├─┼────────■────────■───────────────────────X──»\n",
              "                    │P(π/4) └───┘ │        │P(π/2)  │       ┌───┐           │  »\n",
              "q_2: ───────────────■─────────────┼────────■────────┼───────┤ H ├─■─────────X──»\n",
              "                                  │P(π/8)           │P(π/4) └───┘ │P(π/2) ┌───┐»\n",
              "q_3: ─────────────────────────────■─────────────────■─────────────■───────┤ H ├»\n",
              "                                                                          └───┘»\n",
              "«        \n",
              "«q_0: ─X─\n",
              "«      │ \n",
              "«q_1: ─┼─\n",
              "«      │ \n",
              "«q_2: ─┼─\n",
              "«      │ \n",
              "«q_3: ─X─\n",
              "«        "
            ],
            "text/html": [
              "<pre style=\"word-wrap: normal;white-space: pre;background: #fff0;line-height: 1.1;font-family: &quot;Courier New&quot;,Courier,monospace\">     ┌───┐                                                                     »\n",
              "q_0: ┤ H ├─■────────■─────────────■────────────────────────────────────────────»\n",
              "     └───┘ │P(π/2)  │       ┌───┐ │                                            »\n",
              "q_1: ──────■────────┼───────┤ H ├─┼────────■────────■───────────────────────X──»\n",
              "                    │P(π/4) └───┘ │        │P(π/2)  │       ┌───┐           │  »\n",
              "q_2: ───────────────■─────────────┼────────■────────┼───────┤ H ├─■─────────X──»\n",
              "                                  │P(π/8)           │P(π/4) └───┘ │P(π/2) ┌───┐»\n",
              "q_3: ─────────────────────────────■─────────────────■─────────────■───────┤ H ├»\n",
              "                                                                          └───┘»\n",
              "«        \n",
              "«q_0: ─X─\n",
              "«      │ \n",
              "«q_1: ─┼─\n",
              "«      │ \n",
              "«q_2: ─┼─\n",
              "«      │ \n",
              "«q_3: ─X─\n",
              "«        </pre>"
            ]
          },
          "metadata": {},
          "execution_count": 12
        }
      ]
    },
    {
      "cell_type": "markdown",
      "source": [
        "###### agora usando a biblioteca no qiskit"
      ],
      "metadata": {
        "id": "vSt_WNyUJtch"
      }
    },
    {
      "cell_type": "code",
      "source": [
        "from qiskit.circuit.library import QFT\n",
        "print(QFT(4).decompose())"
      ],
      "metadata": {
        "colab": {
          "base_uri": "https://localhost:8080/"
        },
        "id": "fDCEY-sbFU3e",
        "outputId": "972a7436-1143-4afc-a7e7-b40bc9e68444"
      },
      "execution_count": 13,
      "outputs": [
        {
          "output_type": "stream",
          "name": "stdout",
          "text": [
            "                                                                          ┌───┐»\n",
            "q_0: ──────────────────────────────────────■─────────────■────────■───────┤ H ├»\n",
            "                                           │       ┌───┐ │        │P(π/2) └───┘»\n",
            "q_1: ────────────────────■────────■────────┼───────┤ H ├─┼────────■─────────X──»\n",
            "                   ┌───┐ │        │P(π/2)  │       └───┘ │P(π/4)            │  »\n",
            "q_2: ──────■───────┤ H ├─┼────────■────────┼─────────────■──────────────────X──»\n",
            "     ┌───┐ │P(π/2) └───┘ │P(π/4)           │P(π/8)                             »\n",
            "q_3: ┤ H ├─■─────────────■─────────────────■───────────────────────────────────»\n",
            "     └───┘                                                                     »\n",
            "«        \n",
            "«q_0: ─X─\n",
            "«      │ \n",
            "«q_1: ─┼─\n",
            "«      │ \n",
            "«q_2: ─┼─\n",
            "«      │ \n",
            "«q_3: ─X─\n",
            "«        \n"
          ]
        }
      ]
    }
  ]
}