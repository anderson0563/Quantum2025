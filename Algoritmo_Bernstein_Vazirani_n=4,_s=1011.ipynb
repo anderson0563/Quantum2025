{
  "nbformat": 4,
  "nbformat_minor": 0,
  "metadata": {
    "colab": {
      "provenance": []
    },
    "kernelspec": {
      "name": "python3",
      "display_name": "Python 3"
    },
    "language_info": {
      "name": "python"
    }
  },
  "cells": [
    {
      "cell_type": "code",
      "execution_count": 1,
      "metadata": {
        "id": "A0-DobrqJaxO"
      },
      "outputs": [],
      "source": [
        "%%capture\n",
        "!pip install qiskit qiskit_ibm_runtime"
      ]
    },
    {
      "cell_type": "code",
      "source": [
        "import matplotlib.pyplot as plt\n",
        "from numpy import pi\n",
        "import numpy as np\n",
        "\n",
        "from qiskit import QuantumCircuit, transpile, ClassicalRegister, QuantumRegister\n",
        "from qiskit_ibm_runtime import QiskitRuntimeService, SamplerV2 as Sampler, Session"
      ],
      "metadata": {
        "id": "ztnr2IG3Jncm"
      },
      "execution_count": 21,
      "outputs": []
    },
    {
      "cell_type": "code",
      "source": [
        "service = QiskitRuntimeService(channel=\"ibm_quantum\", token = \"\")\n",
        "backend = service.least_busy(operational=True, simulator=False)\n",
        "if backend is None:\n",
        "  raise ValueError(\"Nenhum backend disponível. Verifique sua conexão com a IBM Quantum.\")\n",
        "else:\n",
        "  print(\"backend selecionado:\", backend)"
      ],
      "metadata": {
        "colab": {
          "base_uri": "https://localhost:8080/"
        },
        "id": "1HG5FxZeJprZ",
        "outputId": "af4a9a17-e1f1-4c0a-cd9f-25037da99efa"
      },
      "execution_count": 3,
      "outputs": [
        {
          "output_type": "stream",
          "name": "stdout",
          "text": [
            "backend selecionado: <IBMBackend('ibm_kyiv')>\n"
          ]
        }
      ]
    },
    {
      "cell_type": "code",
      "source": [
        "qreg_q = QuantumRegister(5, 'q')\n",
        "creg_c = ClassicalRegister(4, 'c')\n",
        "circuit = QuantumCircuit(qreg_q, creg_c)\n",
        "\n",
        "circuit.x(qreg_q[4])\n",
        "circuit.cx(qreg_q[4], qreg_q[0])\n",
        "circuit.cx(qreg_q[4], qreg_q[2])\n",
        "circuit.cx(qreg_q[4], qreg_q[3])\n",
        "circuit.measure(qreg_q[0], creg_c[0])\n",
        "circuit.measure(qreg_q[1], creg_c[1])\n",
        "circuit.measure(qreg_q[2], creg_c[2])\n",
        "circuit.measure(qreg_q[3], creg_c[3])"
      ],
      "metadata": {
        "colab": {
          "base_uri": "https://localhost:8080/"
        },
        "id": "xFNdg9ALJ2O8",
        "outputId": "0ea00b5c-2e47-4f6f-89f7-eb78b4f4fac2"
      },
      "execution_count": 4,
      "outputs": [
        {
          "output_type": "execute_result",
          "data": {
            "text/plain": [
              "<qiskit.circuit.instructionset.InstructionSet at 0x7f6dd43cf760>"
            ]
          },
          "metadata": {},
          "execution_count": 4
        }
      ]
    },
    {
      "cell_type": "code",
      "source": [
        "transpiled_circuit = transpile(circuit, backend=backend, optimization_level=3)\n",
        "transpiled_params = transpiled_circuit.parameters\n",
        "param_values = {param: np.random.rand() for param in transpiled_params}\n",
        "\n",
        "with Session(backend=backend) as session:\n",
        "  sampler_qr = Sampler()\n",
        "  job = sampler_qr.run([(transpiled_circuit, param_values)])\n",
        "  result = job.result()"
      ],
      "metadata": {
        "id": "3N4NvDemJw4k"
      },
      "execution_count": 5,
      "outputs": []
    },
    {
      "cell_type": "code",
      "source": [
        "print(transpiled_circuit)"
      ],
      "metadata": {
        "colab": {
          "base_uri": "https://localhost:8080/"
        },
        "id": "iNqML9UlaGOQ",
        "outputId": "4a38180a-8152-40c2-f0b4-b5cedd9febef"
      },
      "execution_count": 19,
      "outputs": [
        {
          "output_type": "stream",
          "name": "stdout",
          "text": [
            "global phase: 0\n",
            "          ┌──────────┐┌────┐   ┌────────┐                                »\n",
            "q_3 -> 40 ┤ Rz(-π/2) ├┤ √X ├───┤ Rz(-π) ├────────────────────────────────»\n",
            "          ├──────────┤├────┤  ┌┴────────┴┐  ┌──────┐   ┌────────┐  ┌───┐ »\n",
            "q_4 -> 41 ┤ Rz(-π/2) ├┤ √X ├──┤ Rz(-π/2) ├──┤1     ├───┤ Rz(-π) ├──┤ X ├─»\n",
            "          ├──────────┤├────┤┌─┴──────────┴─┐│  Ecr │┌──┴────────┴─┐├───┴┐»\n",
            "q_0 -> 42 ┤ Rz(-π/2) ├┤ √X ├┤ Rz(-0.83567) ├┤0     ├┤ Rz(0.73513) ├┤ √X ├»\n",
            "          ├──────────┤├────┤└──┬────────┬──┘└──────┘└─────────────┘└────┘»\n",
            "q_2 -> 53 ┤ Rz(-π/2) ├┤ √X ├───┤ Rz(-π) ├────────────────────────────────»\n",
            "          └───┬─┬────┘└────┘   └────────┘                                »\n",
            "q_1 -> 97 ────┤M├────────────────────────────────────────────────────────»\n",
            "              └╥┘                                                        »\n",
            "     c: 4/═════╩═════════════════════════════════════════════════════════»\n",
            "               1                                                         »\n",
            "«                                        ┌──────┐┌─────────┐    ┌────┐  »\n",
            "«q_3 -> 40 ──────────────────────────────┤0     ├┤ Rz(π/2) ├────┤ √X ├──»\n",
            "«                     ┌──────┐   ┌────┐  │  Ecr │├─────────┴┐   ├────┤  »\n",
            "«q_4 -> 41 ───────────┤1     ├───┤ √X ├──┤1     ├┤ Rz(-π/2) ├───┤ √X ├──»\n",
            "«          ┌─────────┐│      │   └────┘  └─┬─┬──┘└──────────┘   └────┘  »\n",
            "«q_0 -> 42 ┤ Rz(π/2) ├┤  Ecr ├─────────────┤M├──────────────────────────»\n",
            "«          └─────────┘│      │┌─────────┐  └╥┘      ┌────┐   ┌─────────┐»\n",
            "«q_2 -> 53 ───────────┤0     ├┤ Rz(π/2) ├───╫───────┤ √X ├───┤ Rz(π/2) ├»\n",
            "«                     └──────┘└─────────┘   ║       └────┘   └─────────┘»\n",
            "«q_1 -> 97 ─────────────────────────────────╫───────────────────────────»\n",
            "«                                           ║                           »\n",
            "«     c: 4/═════════════════════════════════╩═══════════════════════════»\n",
            "«                                           0                           »\n",
            "«          ┌─────────┐┌─┐\n",
            "«q_3 -> 40 ┤ Rz(π/2) ├┤M├\n",
            "«          ├─────────┤└╥┘\n",
            "«q_4 -> 41 ┤ Rz(π/2) ├─╫─\n",
            "«          └─────────┘ ║ \n",
            "«q_0 -> 42 ────────────╫─\n",
            "«              ┌─┐     ║ \n",
            "«q_2 -> 53 ────┤M├─────╫─\n",
            "«              └╥┘     ║ \n",
            "«q_1 -> 97 ─────╫──────╫─\n",
            "«               ║      ║ \n",
            "«     c: 4/═════╩══════╩═\n",
            "«               2      3 \n"
          ]
        }
      ]
    },
    {
      "cell_type": "code",
      "source": [
        "counts = job.result()[0].data.c.get_counts()\n",
        "\n",
        "# Ordenar os estados pela frequência\n",
        "sorted_counts = dict(sorted(counts.items(), key=lambda item: item[1], reverse=True))\n",
        "\n",
        "\n",
        "# Plotar o gráfico de barras\n",
        "plt.figure(figsize=(12,6))\n",
        "plt.bar(sorted_counts.keys(), sorted_counts.values(), color='blue')\n",
        "plt.xlabel(\"Estados Binários\")\n",
        "plt.ylabel(\"Número de Ocorrências\")\n",
        "plt.title(\"Contagem de respostas\")\n",
        "plt.xticks(rotation=90)\n",
        "plt.show()\n",
        "print(sorted_counts.keys())\n",
        "print(sorted_counts.values())"
      ],
      "metadata": {
        "colab": {
          "base_uri": "https://localhost:8080/",
          "height": 622
        },
        "id": "x9UW5clTMOoa",
        "outputId": "658b9f7d-00f9-41c1-c940-236feda797a1"
      },
      "execution_count": 22,
      "outputs": [
        {
          "output_type": "display_data",
          "data": {
            "text/plain": [
              "<Figure size 1200x600 with 1 Axes>"
            ],
            "image/png": "[encoded data removed]"
          },
          "metadata": {}
        },
        {
          "output_type": "stream",
          "name": "stdout",
          "text": [
            "dict_keys(['1101', '1100', '0101', '1001', '1111', '0000', '0001', '0100', '1000'])\n",
            "dict_values([3815, 89, 79, 77, 15, 8, 7, 4, 2])\n"
          ]
        }
      ]
    }
  ]
}